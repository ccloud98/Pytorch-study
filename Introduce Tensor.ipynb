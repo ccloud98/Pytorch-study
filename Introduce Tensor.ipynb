{
 "cells": [
  {
   "cell_type": "markdown",
   "id": "11d65e1d-f923-4e89-addb-70edeb5391b6",
   "metadata": {},
   "source": [
    "# Pytorch Tensor"
   ]
  },
  {
   "cell_type": "code",
   "execution_count": 1,
   "id": "5cc4fc9d-a7b2-4e75-b87e-deba058e4593",
   "metadata": {},
   "outputs": [],
   "source": [
    "import torch\n",
    "import math"
   ]
  },
  {
   "cell_type": "code",
   "execution_count": 2,
   "id": "c00afcd9-9a30-4923-8e1a-356c2c396c99",
   "metadata": {},
   "outputs": [
    {
     "name": "stdout",
     "output_type": "stream",
     "text": [
      "<class 'torch.Tensor'>\n",
      "tensor([[1.9542e-03, 2.1062e-42, 0.0000e+00, 0.0000e+00],\n",
      "        [0.0000e+00, 0.0000e+00, 0.0000e+00, 0.0000e+00],\n",
      "        [0.0000e+00, 0.0000e+00, 0.0000e+00, 0.0000e+00]])\n"
     ]
    }
   ],
   "source": [
    "x = torch.empty(3, 4)\n",
    "print(type(x))\n",
    "print(x)"
   ]
  },
  {
   "cell_type": "code",
   "execution_count": 5,
   "id": "e947e6d9-b2d8-4c23-a3d8-72738432a394",
   "metadata": {},
   "outputs": [
    {
     "name": "stdout",
     "output_type": "stream",
     "text": [
      "tensor([[0., 0., 0.],\n",
      "        [0., 0., 0.]])\n",
      "tensor([[1., 1., 1.],\n",
      "        [1., 1., 1.]])\n",
      "tensor([[0.3126, 0.3791, 0.3087],\n",
      "        [0.0736, 0.4216, 0.0691]])\n"
     ]
    }
   ],
   "source": [
    "zeros = torch.zeros(2, 3)\n",
    "print(zeros)\n",
    "\n",
    "ones = torch.ones(2, 3)\n",
    "print(ones)\n",
    "\n",
    "torch.manual_seed(1729)\n",
    "random = torch.rand(2, 3)\n",
    "print(random)"
   ]
  },
  {
   "cell_type": "code",
   "execution_count": 6,
   "id": "6b54a1d7-8801-4028-981d-d8d0445b4c12",
   "metadata": {},
   "outputs": [
    {
     "name": "stdout",
     "output_type": "stream",
     "text": [
      "tensor([[0.3126, 0.3791, 0.3087],\n",
      "        [0.0736, 0.4216, 0.0691]])\n",
      "tensor([[0.2332, 0.4047, 0.2162],\n",
      "        [0.9927, 0.4128, 0.5938]])\n",
      "tensor([[0.3126, 0.3791, 0.3087],\n",
      "        [0.0736, 0.4216, 0.0691]])\n",
      "tensor([[0.2332, 0.4047, 0.2162],\n",
      "        [0.9927, 0.4128, 0.5938]])\n"
     ]
    }
   ],
   "source": [
    "torch.manual_seed(1729)\n",
    "random1 = torch.rand(2, 3)\n",
    "print(random1)\n",
    "\n",
    "random2 = torch.rand(2, 3)\n",
    "print(random2)\n",
    "\n",
    "torch.manual_seed(1729)\n",
    "random3 = torch.rand(2, 3)\n",
    "print(random3)\n",
    "\n",
    "random4 = torch.rand(2, 3)\n",
    "print(random4)"
   ]
  },
  {
   "cell_type": "code",
   "execution_count": 8,
   "id": "9f0f6763-4a59-485b-85ca-d824a7693770",
   "metadata": {},
   "outputs": [
    {
     "name": "stdout",
     "output_type": "stream",
     "text": [
      "torch.Size([2, 2, 3])\n",
      "tensor([[[0., 0., 0.],\n",
      "         [0., 0., 0.]],\n",
      "\n",
      "        [[0., 0., 0.],\n",
      "         [0., 0., 0.]]])\n",
      "torch.Size([2, 2, 3])\n",
      "tensor([[[0., 0., 0.],\n",
      "         [0., 0., 0.]],\n",
      "\n",
      "        [[0., 0., 0.],\n",
      "         [0., 0., 0.]]])\n",
      "torch.Size([2, 2, 3])\n",
      "tensor([[[0., 0., 0.],\n",
      "         [0., 0., 0.]],\n",
      "\n",
      "        [[0., 0., 0.],\n",
      "         [0., 0., 0.]]])\n",
      "torch.Size([2, 2, 3])\n",
      "tensor([[[1., 1., 1.],\n",
      "         [1., 1., 1.]],\n",
      "\n",
      "        [[1., 1., 1.],\n",
      "         [1., 1., 1.]]])\n",
      "torch.Size([2, 2, 3])\n",
      "tensor([[[0.5062, 0.8469, 0.2588],\n",
      "         [0.2707, 0.4115, 0.6839]],\n",
      "\n",
      "        [[0.0703, 0.5105, 0.9451],\n",
      "         [0.2359, 0.1979, 0.3327]]])\n"
     ]
    }
   ],
   "source": [
    "x = torch.empty(2, 2, 3)\n",
    "print(x.shape)\n",
    "print(x)\n",
    "\n",
    "empty_like_x = torch.empty_like(x)\n",
    "print(empty_like_x.shape)\n",
    "print(empty_like_x)\n",
    "\n",
    "zeros_like_x = torch.zeros_like(x)\n",
    "print(zeros_like_x.shape)\n",
    "print(zeros_like_x)\n",
    "\n",
    "ones_like_x = torch.ones_like(x)\n",
    "print(ones_like_x.shape)\n",
    "print(ones_like_x)\n",
    "\n",
    "rand_like_x = torch.rand_like(x)\n",
    "print(rand_like_x.shape)\n",
    "print(rand_like_x)"
   ]
  },
  {
   "cell_type": "code",
   "execution_count": 9,
   "id": "612e56a7-b55c-4f38-8081-8c57b3096ca5",
   "metadata": {},
   "outputs": [
    {
     "name": "stdout",
     "output_type": "stream",
     "text": [
      "tensor([[3.1416, 2.7183],\n",
      "        [1.6180, 0.0073]])\n",
      "tensor([ 2,  3,  5,  7, 11, 13, 17, 19])\n",
      "tensor([[2, 4, 6],\n",
      "        [3, 6, 9]])\n"
     ]
    }
   ],
   "source": [
    "some_constants = torch.tensor([[3.1415926, 2.71828], [1.61803, 0.0072897]])\n",
    "print(some_constants)\n",
    "\n",
    "some_integers = torch.tensor((2, 3, 5, 7, 11, 13, 17, 19))\n",
    "print(some_integers)\n",
    "\n",
    "more_integers = torch.tensor(((2, 4, 6), [3, 6, 9]))\n",
    "print(more_integers)"
   ]
  },
  {
   "cell_type": "code",
   "execution_count": 10,
   "id": "c75d6f4d-1236-464d-ada4-d894f3542d5f",
   "metadata": {},
   "outputs": [
    {
     "name": "stdout",
     "output_type": "stream",
     "text": [
      "tensor([[1, 1, 1],\n",
      "        [1, 1, 1]], dtype=torch.int16)\n",
      "tensor([[18.3283,  0.2118, 18.4972],\n",
      "        [ 9.8370,  3.8937, 16.1945]], dtype=torch.float64)\n",
      "tensor([[18,  0, 18],\n",
      "        [ 9,  3, 16]], dtype=torch.int32)\n"
     ]
    }
   ],
   "source": [
    "a = torch.ones((2, 3), dtype=torch.int16)\n",
    "print(a)\n",
    "\n",
    "b = torch.rand((2, 3), dtype=torch.float64) * 20.\n",
    "print(b)\n",
    "\n",
    "c = b.to(torch.int32)\n",
    "print(c)"
   ]
  },
  {
   "cell_type": "code",
   "execution_count": 11,
   "id": "abe73ab7-2772-47b9-ae56-c044759af185",
   "metadata": {},
   "outputs": [
    {
     "name": "stdout",
     "output_type": "stream",
     "text": [
      "tensor([[1., 1.],\n",
      "        [1., 1.]])\n",
      "tensor([[2., 2.],\n",
      "        [2., 2.]])\n",
      "tensor([[3., 3.],\n",
      "        [3., 3.]])\n",
      "tensor([[4., 4.],\n",
      "        [4., 4.]])\n",
      "tensor([[1.4142, 1.4142],\n",
      "        [1.4142, 1.4142]])\n"
     ]
    }
   ],
   "source": [
    "ones = torch.zeros(2, 2) + 1\n",
    "twos = torch.ones(2, 2) * 2\n",
    "threes = (torch.ones(2, 2) * 7 - 1) / 2\n",
    "fours = twos ** 2\n",
    "sqrt2s = twos ** 0.5\n",
    "\n",
    "print(ones)\n",
    "print(twos)\n",
    "print(threes)\n",
    "print(fours)\n",
    "print(sqrt2s)"
   ]
  },
  {
   "cell_type": "code",
   "execution_count": 12,
   "id": "f3e2e595-35b6-4bfc-a6ef-ed41b3ef614f",
   "metadata": {},
   "outputs": [
    {
     "name": "stdout",
     "output_type": "stream",
     "text": [
      "tensor([[ 2.,  4.],\n",
      "        [ 8., 16.]])\n",
      "tensor([[5., 5.],\n",
      "        [5., 5.]])\n",
      "tensor([[12., 12.],\n",
      "        [12., 12.]])\n"
     ]
    }
   ],
   "source": [
    "powers2 = twos ** torch.tensor([[1, 2], [3, 4]])\n",
    "print(powers2)\n",
    "\n",
    "fives = ones + fours\n",
    "print(fives)\n",
    "\n",
    "dozens = threes * fours\n",
    "print(dozens)"
   ]
  },
  {
   "cell_type": "code",
   "execution_count": 13,
   "id": "ab4eae0d-f996-44ff-8a7d-55cae3f98f59",
   "metadata": {},
   "outputs": [
    {
     "ename": "RuntimeError",
     "evalue": "The size of tensor a (3) must match the size of tensor b (2) at non-singleton dimension 1",
     "output_type": "error",
     "traceback": [
      "\u001b[1;31m---------------------------------------------------------------------------\u001b[0m",
      "\u001b[1;31mRuntimeError\u001b[0m                              Traceback (most recent call last)",
      "Cell \u001b[1;32mIn[13], line 4\u001b[0m\n\u001b[0;32m      1\u001b[0m a \u001b[38;5;241m=\u001b[39m torch\u001b[38;5;241m.\u001b[39mrand(\u001b[38;5;241m2\u001b[39m, \u001b[38;5;241m3\u001b[39m)\n\u001b[0;32m      2\u001b[0m b \u001b[38;5;241m=\u001b[39m torch\u001b[38;5;241m.\u001b[39mrand(\u001b[38;5;241m3\u001b[39m, \u001b[38;5;241m2\u001b[39m)\n\u001b[1;32m----> 4\u001b[0m \u001b[38;5;28mprint\u001b[39m(\u001b[43ma\u001b[49m\u001b[43m \u001b[49m\u001b[38;5;241;43m*\u001b[39;49m\u001b[43m \u001b[49m\u001b[43mb\u001b[49m)\n",
      "\u001b[1;31mRuntimeError\u001b[0m: The size of tensor a (3) must match the size of tensor b (2) at non-singleton dimension 1"
     ]
    }
   ],
   "source": [
    "a = torch.rand(2, 3)\n",
    "b = torch.rand(3, 2)\n",
    "\n",
    "print(a * b)"
   ]
  },
  {
   "cell_type": "code",
   "execution_count": 14,
   "id": "0406bdf9-a8d2-4c9d-a3c9-2adefda1be0d",
   "metadata": {},
   "outputs": [
    {
     "name": "stdout",
     "output_type": "stream",
     "text": [
      "tensor([[0.7220, 0.8217, 0.2612, 0.7375],\n",
      "        [0.8328, 0.8444, 0.2941, 0.3788]])\n",
      "tensor([[1.4439, 1.6434, 0.5224, 1.4750],\n",
      "        [1.6657, 1.6888, 0.5882, 0.7576]])\n"
     ]
    }
   ],
   "source": [
    "rand = torch.rand(2, 4)\n",
    "doubled = rand * (torch.ones(1, 4) * 2)\n",
    "\n",
    "print(rand)\n",
    "print(doubled)"
   ]
  },
  {
   "cell_type": "code",
   "execution_count": 15,
   "id": "b1795952-c08f-4af2-a7e5-659f9380c351",
   "metadata": {},
   "outputs": [
    {
     "name": "stdout",
     "output_type": "stream",
     "text": [
      "tensor([[[0.4567, 0.0649],\n",
      "         [0.6677, 0.7826],\n",
      "         [0.1332, 0.0023]],\n",
      "\n",
      "        [[0.4567, 0.0649],\n",
      "         [0.6677, 0.7826],\n",
      "         [0.1332, 0.0023]],\n",
      "\n",
      "        [[0.4567, 0.0649],\n",
      "         [0.6677, 0.7826],\n",
      "         [0.1332, 0.0023]],\n",
      "\n",
      "        [[0.4567, 0.0649],\n",
      "         [0.6677, 0.7826],\n",
      "         [0.1332, 0.0023]]])\n",
      "tensor([[[0.4945, 0.4945],\n",
      "         [0.3857, 0.3857],\n",
      "         [0.9883, 0.9883]],\n",
      "\n",
      "        [[0.4945, 0.4945],\n",
      "         [0.3857, 0.3857],\n",
      "         [0.9883, 0.9883]],\n",
      "\n",
      "        [[0.4945, 0.4945],\n",
      "         [0.3857, 0.3857],\n",
      "         [0.9883, 0.9883]],\n",
      "\n",
      "        [[0.4945, 0.4945],\n",
      "         [0.3857, 0.3857],\n",
      "         [0.9883, 0.9883]]])\n",
      "tensor([[[0.4762, 0.7242],\n",
      "         [0.4762, 0.7242],\n",
      "         [0.4762, 0.7242]],\n",
      "\n",
      "        [[0.4762, 0.7242],\n",
      "         [0.4762, 0.7242],\n",
      "         [0.4762, 0.7242]],\n",
      "\n",
      "        [[0.4762, 0.7242],\n",
      "         [0.4762, 0.7242],\n",
      "         [0.4762, 0.7242]],\n",
      "\n",
      "        [[0.4762, 0.7242],\n",
      "         [0.4762, 0.7242],\n",
      "         [0.4762, 0.7242]]])\n"
     ]
    }
   ],
   "source": [
    "a =     torch.ones(4, 3, 2)\n",
    "\n",
    "b = a * torch.rand(   3, 2) # 세번째와 두번째 차원이 a랑 동일하고, 첫번째 차원은 존재하지 않습니다.\n",
    "print(b)\n",
    "\n",
    "c = a * torch.rand(   3, 1) # 세번째 차원 = 1이고, 두번째 차원은 a랑 동일합니다.\n",
    "print(c)\n",
    "\n",
    "d = a * torch.rand(   1, 2) # 세번째 차원이 a랑 동일하고, 두번째 차원 = 1입니다.\n",
    "print(d)"
   ]
  },
  {
   "cell_type": "code",
   "execution_count": 16,
   "id": "a8fce406-1b95-4b3c-8f5a-06a97b00c46d",
   "metadata": {},
   "outputs": [
    {
     "ename": "RuntimeError",
     "evalue": "The size of tensor a (2) must match the size of tensor b (3) at non-singleton dimension 2",
     "output_type": "error",
     "traceback": [
      "\u001b[1;31m---------------------------------------------------------------------------\u001b[0m",
      "\u001b[1;31mRuntimeError\u001b[0m                              Traceback (most recent call last)",
      "Cell \u001b[1;32mIn[16], line 3\u001b[0m\n\u001b[0;32m      1\u001b[0m a \u001b[38;5;241m=\u001b[39m     torch\u001b[38;5;241m.\u001b[39mones(\u001b[38;5;241m4\u001b[39m, \u001b[38;5;241m3\u001b[39m, \u001b[38;5;241m2\u001b[39m)\n\u001b[1;32m----> 3\u001b[0m b \u001b[38;5;241m=\u001b[39m \u001b[43ma\u001b[49m\u001b[43m \u001b[49m\u001b[38;5;241;43m*\u001b[39;49m\u001b[43m \u001b[49m\u001b[43mtorch\u001b[49m\u001b[38;5;241;43m.\u001b[39;49m\u001b[43mrand\u001b[49m\u001b[43m(\u001b[49m\u001b[38;5;241;43m4\u001b[39;49m\u001b[43m,\u001b[49m\u001b[43m \u001b[49m\u001b[38;5;241;43m3\u001b[39;49m\u001b[43m)\u001b[49m    \u001b[38;5;66;03m# 차원은 반드시 맨 뒤 원소부터 맨 앞 원소로 차례대로 맞춰야 합니다.\u001b[39;00m\n\u001b[0;32m      5\u001b[0m c \u001b[38;5;241m=\u001b[39m a \u001b[38;5;241m*\u001b[39m torch\u001b[38;5;241m.\u001b[39mrand(   \u001b[38;5;241m2\u001b[39m, \u001b[38;5;241m3\u001b[39m) \u001b[38;5;66;03m# 세번째와 두번째 차원 모두 서로 다릅니다.\u001b[39;00m\n\u001b[0;32m      7\u001b[0m d \u001b[38;5;241m=\u001b[39m a \u001b[38;5;241m*\u001b[39m torch\u001b[38;5;241m.\u001b[39mrand((\u001b[38;5;241m0\u001b[39m, ))\n",
      "\u001b[1;31mRuntimeError\u001b[0m: The size of tensor a (2) must match the size of tensor b (3) at non-singleton dimension 2"
     ]
    }
   ],
   "source": [
    "a =     torch.ones(4, 3, 2)\n",
    "\n",
    "b = a * torch.rand(4, 3)    # 차원은 반드시 맨 뒤 원소부터 맨 앞 원소로 차례대로 맞춰야 합니다.\n",
    "\n",
    "c = a * torch.rand(   2, 3) # 세번째와 두번째 차원 모두 서로 다릅니다.\n",
    "\n",
    "d = a * torch.rand((0, ))   # 비어있는 tensor는 broadcast 할 수 없습니다."
   ]
  },
  {
   "cell_type": "code",
   "execution_count": 17,
   "id": "a59bcaa4-ec12-4594-846a-4985e9893866",
   "metadata": {},
   "outputs": [
    {
     "name": "stdout",
     "output_type": "stream",
     "text": [
      "Common functions:\n",
      "tensor([[0.6881, 0.8008, 0.2010, 0.2648],\n",
      "        [0.8928, 0.9773, 0.0365, 0.9614]])\n",
      "tensor([[1., 1., -0., 1.],\n",
      "        [1., -0., 1., 1.]])\n",
      "tensor([[ 0.,  0., -1.,  0.],\n",
      "        [ 0., -1.,  0.,  0.]])\n",
      "tensor([[ 0.5000,  0.5000, -0.2010,  0.2648],\n",
      "        [ 0.5000, -0.5000,  0.0365,  0.5000]])\n",
      "\n",
      "Sine and arcsine:\n",
      "tensor([0.0000, 0.7854, 1.5708, 2.3562])\n",
      "tensor([0.0000, 0.7071, 1.0000, 0.7071])\n",
      "tensor([0.0000, 0.7854, 1.5708, 0.7854])\n",
      "\n",
      "Bitwise XOR:\n",
      "tensor([3, 2, 1])\n",
      "\n",
      "Broadcasted, element-wise equality comparison:\n",
      "tensor([[ True, False],\n",
      "        [False, False]])\n",
      "\n",
      "Reduction ops:\n",
      "tensor(4.)\n",
      "4.0\n",
      "tensor(2.5000)\n",
      "tensor(1.2910)\n",
      "tensor(24.)\n",
      "tensor([1, 2])\n",
      "\n",
      "Vectors & Matrices:\n",
      "tensor([ 0.,  0., -1.])\n",
      "tensor([[0.6545, 0.4144],\n",
      "        [0.0696, 0.4648]])\n",
      "tensor([[1.9635, 1.2431],\n",
      "        [0.2089, 1.3944]])\n",
      "torch.return_types.svd(\n",
      "U=tensor([[-0.9008, -0.4343],\n",
      "        [-0.4343,  0.9008]]),\n",
      "S=tensor([2.5365, 0.9770]),\n",
      "V=tensor([[-0.7330, -0.6802],\n",
      "        [-0.6802,  0.7330]]))\n"
     ]
    },
    {
     "name": "stderr",
     "output_type": "stream",
     "text": [
      "C:\\Users\\AutoML\\AppData\\Local\\Temp\\ipykernel_11208\\3529175983.py:46: UserWarning: Using torch.cross without specifying the dim arg is deprecated.\n",
      "Please either pass the dim explicitly or simply use torch.linalg.cross.\n",
      "The default value of dim will change to agree with that of linalg.cross in a future release. (Triggered internally at C:\\actions-runner\\_work\\pytorch\\pytorch\\builder\\windows\\pytorch\\aten\\src\\ATen\\native\\Cross.cpp:67.)\n",
      "  print(torch.cross(v2, v1)) # z축 단위 벡터의 음수값 (v1 x v2 == -v2 x v1)\n"
     ]
    }
   ],
   "source": [
    "# 공용 함수\n",
    "a = torch.rand(2, 4) * 2 - 1\n",
    "print('Common functions:')\n",
    "print(torch.abs(a))\n",
    "print(torch.ceil(a))\n",
    "print(torch.floor(a))\n",
    "print(torch.clamp(a, -0.5, 0.5))\n",
    "\n",
    "# 삼각 함수와 그 역함수들\n",
    "angles = torch.tensor([0, math.pi / 4, math.pi / 2, 3 * math.pi / 4])\n",
    "sines = torch.sin(angles)\n",
    "inverses = torch.asin(sines)\n",
    "print('\\nSine and arcsine:')\n",
    "print(angles)\n",
    "print(sines)\n",
    "print(inverses)\n",
    "\n",
    "# 비트 연산\n",
    "print('\\nBitwise XOR:')\n",
    "b = torch.tensor([1, 5, 11])\n",
    "c = torch.tensor([2, 7, 10])\n",
    "print(torch.bitwise_xor(b, c))\n",
    "\n",
    "# 비교 연산:\n",
    "print('\\nBroadcasted, element-wise equality comparison:')\n",
    "d = torch.tensor([[1., 2.], [3., 4.]])\n",
    "e = torch.ones(1, 2)  # 많은 비교 연산자들은 broadcasting을 지원합니다!\n",
    "print(torch.eq(d, e)) # bool 자료형을 가진 tensor를 반환합니다.\n",
    "\n",
    "# 차원 감소 연산:\n",
    "print('\\nReduction ops:')\n",
    "print(torch.max(d))        # 단일 원소 tensor를 반환합니다.\n",
    "print(torch.max(d).item()) # 반환한 tensor로부터 값을 추출합니다.\n",
    "print(torch.mean(d))       # 평균\n",
    "print(torch.std(d))        # 표준 편차\n",
    "print(torch.prod(d))       # 모든 숫자의 곱\n",
    "print(torch.unique(torch.tensor([1, 2, 1, 2, 1, 2]))) # 중복되지 않은 값들을 걸러냅니다.\n",
    "\n",
    "# 벡터와 선형 대수 연산\n",
    "v1 = torch.tensor([1., 0., 0.])         # x축 단위 벡터\n",
    "v2 = torch.tensor([0., 1., 0.])         # y축 단위 벡터\n",
    "m1 = torch.rand(2, 2)                   # 무작위 행렬\n",
    "m2 = torch.tensor([[3., 0.], [0., 3.]]) # 단위 행렬에 3을 곱한 결과\n",
    "\n",
    "print('\\nVectors & Matrices:')\n",
    "print(torch.cross(v2, v1)) # z축 단위 벡터의 음수값 (v1 x v2 == -v2 x v1)\n",
    "print(m1)\n",
    "m3 = torch.matmul(m1, m2)\n",
    "print(m3)                  # m1 행렬을 3번 곱한 결과\n",
    "print(torch.svd(m3))       # 특이값 분해"
   ]
  },
  {
   "cell_type": "code",
   "execution_count": 18,
   "id": "38f31f1e-059f-4532-bde6-e0ce60264ac4",
   "metadata": {},
   "outputs": [
    {
     "name": "stdout",
     "output_type": "stream",
     "text": [
      "a:\n",
      "tensor([0.0000, 0.7854, 1.5708, 2.3562])\n",
      "tensor([0.0000, 0.7071, 1.0000, 0.7071])\n",
      "tensor([0.0000, 0.7854, 1.5708, 2.3562])\n",
      "\n",
      "b:\n",
      "tensor([0.0000, 0.7854, 1.5708, 2.3562])\n",
      "tensor([0.0000, 0.7071, 1.0000, 0.7071])\n",
      "tensor([0.0000, 0.7071, 1.0000, 0.7071])\n"
     ]
    }
   ],
   "source": [
    "a = torch.tensor([0, math.pi / 4, math.pi / 2, 3 * math.pi / 4])\n",
    "print('a:')\n",
    "print(a)\n",
    "print(torch.sin(a))   # 이 연산은 메모리에 새로운 tensor를 생성합니다.\n",
    "print(a)              # a는 변하지 않습니다.\n",
    "\n",
    "b = torch.tensor([0, math.pi / 4, math.pi / 2, 3 * math.pi / 4])\n",
    "print('\\nb:')\n",
    "print(b)\n",
    "print(torch.sin_(b))  # 밑줄에 주목하세요.\n",
    "print(b)              # b가 변합니다."
   ]
  },
  {
   "cell_type": "code",
   "execution_count": 19,
   "id": "cd3ca6c6-2d9a-4466-8b6e-c5ae665a81ad",
   "metadata": {},
   "outputs": [
    {
     "name": "stdout",
     "output_type": "stream",
     "text": [
      "Before:\n",
      "tensor([[1., 1.],\n",
      "        [1., 1.]])\n",
      "tensor([[0.4491, 0.6265],\n",
      "        [0.9411, 0.4922]])\n",
      "\n",
      "After adding:\n",
      "tensor([[1.4491, 1.6265],\n",
      "        [1.9411, 1.4922]])\n",
      "tensor([[1.4491, 1.6265],\n",
      "        [1.9411, 1.4922]])\n",
      "tensor([[0.4491, 0.6265],\n",
      "        [0.9411, 0.4922]])\n",
      "\n",
      "After multiplying\n",
      "tensor([[0.2017, 0.3925],\n",
      "        [0.8858, 0.2423]])\n",
      "tensor([[0.2017, 0.3925],\n",
      "        [0.8858, 0.2423]])\n"
     ]
    }
   ],
   "source": [
    "a = torch.ones(2, 2)\n",
    "b = torch.rand(2, 2)\n",
    "\n",
    "print('Before:')\n",
    "print(a)\n",
    "print(b)\n",
    "print('\\nAfter adding:')\n",
    "print(a.add_(b))\n",
    "print(a)\n",
    "print(b)\n",
    "print('\\nAfter multiplying')\n",
    "print(b.mul_(b))\n",
    "print(b)"
   ]
  },
  {
   "cell_type": "code",
   "execution_count": 20,
   "id": "e1568863-0663-4623-bf85-fe1f31b709bc",
   "metadata": {},
   "outputs": [
    {
     "name": "stdout",
     "output_type": "stream",
     "text": [
      "tensor([[0., 0.],\n",
      "        [0., 0.]])\n",
      "tensor([[0.1829, 0.7278],\n",
      "        [0.1016, 0.3259]])\n",
      "tensor([[0.3534, 0.7016],\n",
      "        [0.6826, 0.9413]])\n"
     ]
    }
   ],
   "source": [
    "a = torch.rand(2, 2)\n",
    "b = torch.rand(2, 2)\n",
    "c = torch.zeros(2, 2)\n",
    "old_id = id(c)\n",
    "\n",
    "print(c)\n",
    "d = torch.matmul(a, b, out=c)\n",
    "print(c)                # c의 값이 변경되었습니다.\n",
    "\n",
    "assert c is d           # c와 d가 서로 단순히 같은 값을 가지는지가 아니라 같은 객체인지 테스트합니다.\n",
    "assert id(c) == old_id  # 새로운 c는 이전 객체와 확실히 같은 객체입니다.\n",
    "\n",
    "torch.rand(2, 2, out=c) # 다시 한번 생성해봅시다!\n",
    "print(c)                # c의 값이 다시 바뀌었습니다.\n",
    "assert id(c) == old_id  # 하지만 여전히 같은 객체네요!"
   ]
  },
  {
   "cell_type": "code",
   "execution_count": 21,
   "id": "502c1c40-1a11-4959-8bcf-6e9b386d89eb",
   "metadata": {},
   "outputs": [
    {
     "name": "stdout",
     "output_type": "stream",
     "text": [
      "tensor([[  1., 561.],\n",
      "        [  1.,   1.]])\n"
     ]
    }
   ],
   "source": [
    "a = torch.ones(2, 2)\n",
    "b = a\n",
    "\n",
    "a[0][1] = 561\n",
    "print(b)"
   ]
  },
  {
   "cell_type": "code",
   "execution_count": 23,
   "id": "42b52ec0-a2c4-4dc2-9679-069fb98442a8",
   "metadata": {},
   "outputs": [
    {
     "name": "stdout",
     "output_type": "stream",
     "text": [
      "tensor([[True, True],\n",
      "        [True, True]])\n",
      "tensor([[1., 1.],\n",
      "        [1., 1.]])\n",
      "tensor([[  1., 561.],\n",
      "        [  1.,   1.]])\n"
     ]
    }
   ],
   "source": [
    "a = torch.ones(2, 2)\n",
    "b = a.clone()\n",
    "\n",
    "assert b is not a\n",
    "print(torch.eq(a, b))\n",
    "\n",
    "a[0][1] = 561\n",
    "print(b)\n",
    "print(a)"
   ]
  },
  {
   "cell_type": "code",
   "execution_count": 24,
   "id": "4f29ce39-a233-44bf-8144-747808ae385b",
   "metadata": {},
   "outputs": [
    {
     "name": "stdout",
     "output_type": "stream",
     "text": [
      "tensor([[0.4460, 0.9289],\n",
      "        [0.6293, 0.6264]], requires_grad=True)\n",
      "tensor([[0.4460, 0.9289],\n",
      "        [0.6293, 0.6264]], grad_fn=<CloneBackward0>)\n",
      "tensor([[0.4460, 0.9289],\n",
      "        [0.6293, 0.6264]])\n",
      "tensor([[0.4460, 0.9289],\n",
      "        [0.6293, 0.6264]], requires_grad=True)\n"
     ]
    }
   ],
   "source": [
    "a = torch.rand(2, 2, requires_grad=True) # autograd를 켭니다.\n",
    "print(a)\n",
    "\n",
    "b = a.clone()\n",
    "print(b)\n",
    "\n",
    "c = a.detach().clone()\n",
    "print(c)\n",
    "\n",
    "print(a)"
   ]
  },
  {
   "cell_type": "code",
   "execution_count": 25,
   "id": "8059f968-eb53-4f36-a2c6-bf176a5c43cf",
   "metadata": {},
   "outputs": [
    {
     "name": "stdout",
     "output_type": "stream",
     "text": [
      "Sorry, CPU only.\n"
     ]
    }
   ],
   "source": [
    "if torch.cuda.is_available():\n",
    "    print('We have a GPU!')\n",
    "else:\n",
    "    print('Sorry, CPU only.')"
   ]
  },
  {
   "cell_type": "code",
   "execution_count": 26,
   "id": "d5ab6383-5791-44b6-991a-d66dd991c8f4",
   "metadata": {},
   "outputs": [
    {
     "name": "stdout",
     "output_type": "stream",
     "text": [
      "Sorry, CPU only.\n"
     ]
    }
   ],
   "source": [
    "if torch.cuda.is_available():\n",
    "    gpu_rand = torch.rand(2, 2, device='cuda')\n",
    "    print(gpu_rand)\n",
    "else:\n",
    "    print('Sorry, CPU only.')"
   ]
  },
  {
   "cell_type": "code",
   "execution_count": 27,
   "id": "960d0051-81a2-4ee2-b46d-5016a579ebfe",
   "metadata": {},
   "outputs": [
    {
     "name": "stdout",
     "output_type": "stream",
     "text": [
      "Device: cpu\n",
      "tensor([[0.4704, 0.6077],\n",
      "        [0.4757, 0.5874]])\n"
     ]
    }
   ],
   "source": [
    "if torch.cuda.is_available():\n",
    "    my_device = torch.device('cuda')\n",
    "else:\n",
    "    my_device = torch.device('cpu')\n",
    "print('Device: {}'.format(my_device))\n",
    "\n",
    "x = torch.rand(2, 2, device=my_device)\n",
    "print(x)"
   ]
  },
  {
   "cell_type": "code",
   "execution_count": 28,
   "id": "aeab0f97-beba-455c-bb02-f049a4ef0d32",
   "metadata": {},
   "outputs": [],
   "source": [
    "y = torch.rand(2, 2)\n",
    "y = y.to(my_device)"
   ]
  },
  {
   "cell_type": "code",
   "execution_count": 30,
   "id": "3c965e9d-fb17-4d05-80a2-72c9c5062736",
   "metadata": {},
   "outputs": [],
   "source": [
    "x = torch.rand(2, 2)\n",
    "y = torch.rand(2, 2, device='cpu')\n",
    "z = x + y"
   ]
  },
  {
   "cell_type": "markdown",
   "id": "54ac1593-32ed-4c17-b2ad-28b98bafc9f0",
   "metadata": {},
   "source": [
    "# 텐서의 Shape 다루기"
   ]
  },
  {
   "cell_type": "code",
   "execution_count": 31,
   "id": "ff08ab4b-6331-47a5-85f1-be2e8f81d17f",
   "metadata": {},
   "outputs": [
    {
     "name": "stdout",
     "output_type": "stream",
     "text": [
      "torch.Size([3, 226, 226])\n",
      "torch.Size([1, 3, 226, 226])\n"
     ]
    }
   ],
   "source": [
    "a = torch.rand(3, 226, 226)\n",
    "b = a.unsqueeze(0)\n",
    "\n",
    "print(a.shape)\n",
    "print(b.shape)"
   ]
  },
  {
   "cell_type": "code",
   "execution_count": 34,
   "id": "d93dc3c6-fbba-4bf6-938c-a36eb5ee8f74",
   "metadata": {},
   "outputs": [
    {
     "name": "stdout",
     "output_type": "stream",
     "text": [
      "tensor([[[[[0.8068]]]]])\n",
      "torch.Size([1, 1, 1, 1, 1])\n"
     ]
    }
   ],
   "source": [
    "c = torch.rand(1, 1, 1, 1, 1)\n",
    "print(c)\n",
    "print(c.shape)"
   ]
  },
  {
   "cell_type": "code",
   "execution_count": 40,
   "id": "73adb700-3881-4236-bd85-87641703f8ad",
   "metadata": {},
   "outputs": [
    {
     "name": "stdout",
     "output_type": "stream",
     "text": [
      "tensor([[0.2889, 0.6504, 0.2299, 0.3186, 0.5693, 0.2708, 0.2421, 0.3695, 0.0238,\n",
      "         0.3039, 0.5577, 0.8109, 0.2091, 0.7922, 0.1296, 0.8304, 0.0950, 0.2097,\n",
      "         0.1072, 0.8870]]) torch.Size([1, 20])\n",
      "torch.Size([20]) tensor([0.2889, 0.6504, 0.2299, 0.3186, 0.5693, 0.2708, 0.2421, 0.3695, 0.0238,\n",
      "        0.3039, 0.5577, 0.8109, 0.2091, 0.7922, 0.1296, 0.8304, 0.0950, 0.2097,\n",
      "        0.1072, 0.8870])\n",
      "torch.Size([2, 2])\n",
      "torch.Size([2, 2])\n"
     ]
    }
   ],
   "source": [
    "a = torch.rand(1,20)\n",
    "print(a,a.shape)\n",
    "\n",
    "b = a.squeeze(0)\n",
    "print(b.shape, b)\n",
    "\n",
    "c = torch.rand(2, 2)\n",
    "print(c.shape)\n",
    "\n",
    "d = c.squeeze(0)\n",
    "print(d.shape)"
   ]
  },
  {
   "cell_type": "code",
   "execution_count": 41,
   "id": "21abb5a5-3592-4469-a438-462e65ca1aad",
   "metadata": {},
   "outputs": [
    {
     "name": "stdout",
     "output_type": "stream",
     "text": [
      "tensor([[[0.3628, 0.3628],\n",
      "         [0.4679, 0.4679],\n",
      "         [0.4378, 0.4378]],\n",
      "\n",
      "        [[0.3628, 0.3628],\n",
      "         [0.4679, 0.4679],\n",
      "         [0.4378, 0.4378]],\n",
      "\n",
      "        [[0.3628, 0.3628],\n",
      "         [0.4679, 0.4679],\n",
      "         [0.4378, 0.4378]],\n",
      "\n",
      "        [[0.3628, 0.3628],\n",
      "         [0.4679, 0.4679],\n",
      "         [0.4378, 0.4378]]])\n"
     ]
    }
   ],
   "source": [
    "a =     torch.ones(4, 3, 2)\n",
    "\n",
    "c = a * torch.rand(   3, 1) # 3번째 차원 = 1, 2번째 차원은 다음 코드랑 동일합니다.\n",
    "print(c)"
   ]
  },
  {
   "cell_type": "code",
   "execution_count": 49,
   "id": "4edaa8c7-58eb-4346-b00e-3656dc562b98",
   "metadata": {},
   "outputs": [
    {
     "name": "stdout",
     "output_type": "stream",
     "text": [
      "torch.Size([3, 1])\n",
      "tensor([[[0.8959, 0.8959],\n",
      "         [0.4908, 0.4908],\n",
      "         [0.1875, 0.1875]],\n",
      "\n",
      "        [[0.8959, 0.8959],\n",
      "         [0.4908, 0.4908],\n",
      "         [0.1875, 0.1875]],\n",
      "\n",
      "        [[0.8959, 0.8959],\n",
      "         [0.4908, 0.4908],\n",
      "         [0.1875, 0.1875]],\n",
      "\n",
      "        [[0.8959, 0.8959],\n",
      "         [0.4908, 0.4908],\n",
      "         [0.1875, 0.1875]]])\n"
     ]
    }
   ],
   "source": [
    "a = torch.ones(4, 3, 2)\n",
    "b = torch.rand(   3)     # a * b를 시도하는 것은 runtime error가 발생합니다.\n",
    "c = b.unsqueeze(1)       # 끝에 새로운 차원을 추가해서 2차원 tensor로 바꿉니다.\n",
    "print(c.shape)\n",
    "print(a * c)             # broadcasting이 다시 작동합니다!\n"
   ]
  },
  {
   "cell_type": "code",
   "execution_count": 50,
   "id": "ce3d960f-e1a4-4e09-a71a-8315d0d474df",
   "metadata": {},
   "outputs": [
    {
     "name": "stdout",
     "output_type": "stream",
     "text": [
      "torch.Size([3, 226, 226])\n",
      "torch.Size([1, 3, 226, 226])\n"
     ]
    }
   ],
   "source": [
    "batch_me = torch.rand(3, 226, 226)\n",
    "print(batch_me.shape)\n",
    "batch_me.unsqueeze_(0)\n",
    "print(batch_me.shape)"
   ]
  },
  {
   "cell_type": "code",
   "execution_count": 51,
   "id": "8460a062-2d87-4a81-9c04-e64e60564db7",
   "metadata": {},
   "outputs": [
    {
     "name": "stdout",
     "output_type": "stream",
     "text": [
      "torch.Size([6, 20, 20])\n",
      "torch.Size([2400])\n",
      "torch.Size([2400])\n"
     ]
    }
   ],
   "source": [
    "output3d = torch.rand(6, 20, 20)\n",
    "print(output3d.shape)\n",
    "\n",
    "input1d = output3d.reshape(6 * 20 * 20)\n",
    "print(input1d.shape)\n",
    "\n",
    "# torch 모듈에 있는 메소드에 대해서도 호출할 수 있습니다.\n",
    "print(torch.reshape(output3d, (6 * 20 * 20,)).shape)"
   ]
  },
  {
   "cell_type": "code",
   "execution_count": 52,
   "id": "567ecbc6-d19b-4f57-af32-920942dfecea",
   "metadata": {},
   "outputs": [
    {
     "name": "stdout",
     "output_type": "stream",
     "text": [
      "[[1. 1. 1.]\n",
      " [1. 1. 1.]]\n",
      "tensor([[1., 1., 1.],\n",
      "        [1., 1., 1.]], dtype=torch.float64)\n"
     ]
    }
   ],
   "source": [
    "import numpy as np\n",
    "\n",
    "numpy_array = np.ones((2, 3))\n",
    "print(numpy_array)\n",
    "\n",
    "pytorch_tensor = torch.from_numpy(numpy_array)\n",
    "print(pytorch_tensor)"
   ]
  },
  {
   "cell_type": "code",
   "execution_count": 53,
   "id": "8b3c1ee6-fe72-4be4-89d3-50dea7d28716",
   "metadata": {},
   "outputs": [
    {
     "name": "stdout",
     "output_type": "stream",
     "text": [
      "tensor([[0.2156, 0.6103, 0.3515],\n",
      "        [0.9615, 0.8342, 0.6184]])\n",
      "[[0.21556973 0.6102984  0.3515206 ]\n",
      " [0.9615434  0.83415765 0.6184336 ]]\n"
     ]
    }
   ],
   "source": [
    "pytorch_rand = torch.rand(2, 3)\n",
    "print(pytorch_rand)\n",
    "\n",
    "numpy_rand = pytorch_rand.numpy()\n",
    "print(numpy_rand)"
   ]
  },
  {
   "cell_type": "code",
   "execution_count": 54,
   "id": "267caf48-674e-4afd-882f-f56625f702b2",
   "metadata": {},
   "outputs": [
    {
     "name": "stdout",
     "output_type": "stream",
     "text": [
      "tensor([[ 1.,  1.,  1.],\n",
      "        [ 1., 23.,  1.]], dtype=torch.float64)\n",
      "[[ 0.21556973  0.6102984   0.3515206 ]\n",
      " [ 0.9615434  17.          0.6184336 ]]\n"
     ]
    }
   ],
   "source": [
    "numpy_array[1, 1] = 23\n",
    "print(pytorch_tensor)\n",
    "\n",
    "pytorch_rand[1, 1] = 17\n",
    "print(numpy_rand)"
   ]
  }
 ],
 "metadata": {
  "kernelspec": {
   "display_name": "Python 3 (ipykernel)",
   "language": "python",
   "name": "python3"
  },
  "language_info": {
   "codemirror_mode": {
    "name": "ipython",
    "version": 3
   },
   "file_extension": ".py",
   "mimetype": "text/x-python",
   "name": "python",
   "nbconvert_exporter": "python",
   "pygments_lexer": "ipython3",
   "version": "3.9.18"
  }
 },
 "nbformat": 4,
 "nbformat_minor": 5
}
