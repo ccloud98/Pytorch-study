{
 "cells": [
  {
   "cell_type": "markdown",
   "id": "ae387a78-c318-467b-93fb-9a57392477ee",
   "metadata": {},
   "source": [
    "# Build the Neural Network"
   ]
  },
  {
   "cell_type": "markdown",
   "id": "f548aa48-0963-47e0-ac56-681e7d30ae27",
   "metadata": {},
   "source": [
    "이미지 분류 신경망 구성"
   ]
  },
  {
   "cell_type": "code",
   "execution_count": 2,
   "id": "0fb6eaf1-e886-41a9-b85e-e9e689a2f040",
   "metadata": {},
   "outputs": [],
   "source": [
    "import os\n",
    "import torch\n",
    "from torch import nn\n",
    "from torch.utils.data import DataLoader\n",
    "from torchvision import datasets, transforms"
   ]
  },
  {
   "cell_type": "markdown",
   "id": "a6ea8d51-ee2c-47e6-995c-11ea00604b10",
   "metadata": {},
   "source": [
    "GPU/MPS 사용 여부 확인"
   ]
  },
  {
   "cell_type": "code",
   "execution_count": 4,
   "id": "9c28232f-6f2a-4654-a750-a091ddd5bd71",
   "metadata": {},
   "outputs": [
    {
     "name": "stdout",
     "output_type": "stream",
     "text": [
      "Using cpu device\n"
     ]
    }
   ],
   "source": [
    "device = (\n",
    "    \"cuda\"\n",
    "    if torch.cuda.is_available()\n",
    "    else \"mps\"\n",
    "    if torch.backends.mps.is_available()\n",
    "    else \"cpu\"\n",
    ")\n",
    "print(f\"Using {device} device\")"
   ]
  },
  {
   "cell_type": "markdown",
   "id": "1c043a20-75e4-4479-ba03-75b2910b32ed",
   "metadata": {},
   "source": [
    "클래스 정의"
   ]
  },
  {
   "cell_type": "code",
   "execution_count": 5,
   "id": "d6a52a07-264b-4afd-b57f-7c74c55becfa",
   "metadata": {},
   "outputs": [],
   "source": [
    "class NeuralNetwork(nn.Module):\n",
    "    def __init__(self):\n",
    "        super().__init__()\n",
    "        self.flatten = nn.Flatten()\n",
    "        self.linear_relu_stack = nn.Sequential(\n",
    "            nn.Linear(28*28, 512),\n",
    "            nn.ReLU(),\n",
    "            nn.Linear(512, 512),\n",
    "            nn.ReLU(),\n",
    "            nn.Linear(512, 10),\n",
    "        )\n",
    "\n",
    "    def forward(self, x):\n",
    "        x = self.flatten(x)\n",
    "        logits = self.linear_relu_stack(x)\n",
    "        return logits"
   ]
  },
  {
   "cell_type": "code",
   "execution_count": 6,
   "id": "9e9395ee-c0d4-4cb6-8796-8fc2b102418a",
   "metadata": {},
   "outputs": [
    {
     "name": "stdout",
     "output_type": "stream",
     "text": [
      "NeuralNetwork(\n",
      "  (flatten): Flatten(start_dim=1, end_dim=-1)\n",
      "  (linear_relu_stack): Sequential(\n",
      "    (0): Linear(in_features=784, out_features=512, bias=True)\n",
      "    (1): ReLU()\n",
      "    (2): Linear(in_features=512, out_features=512, bias=True)\n",
      "    (3): ReLU()\n",
      "    (4): Linear(in_features=512, out_features=10, bias=True)\n",
      "  )\n",
      ")\n"
     ]
    }
   ],
   "source": [
    "# NeuralNetwork의 인스턴스(instance)를 생성하고 이를 device 로 이동한 뒤, 구조(structure)를 출력합니다.\n",
    "model = NeuralNetwork().to(device)\n",
    "print(model)"
   ]
  },
  {
   "cell_type": "code",
   "execution_count": 25,
   "id": "db1a6eca-3e7b-4ace-a9ca-bca17b9fc663",
   "metadata": {},
   "outputs": [
    {
     "name": "stdout",
     "output_type": "stream",
     "text": [
      "Predicted class: tensor([9])\n"
     ]
    }
   ],
   "source": [
    "X = torch.rand(1, 28, 28, device=device)\n",
    "logits = model(X)\n",
    "pred_probab = nn.Softmax(dim=1)(logits)\n",
    "y_pred = pred_probab.argmax(1)\n",
    "print(f\"Predicted class: {y_pred}\")"
   ]
  },
  {
   "cell_type": "markdown",
   "id": "85d77d25-cb7b-4aa4-a7cf-d47ef6eac4ab",
   "metadata": {},
   "source": [
    "모델 계층(Layer)"
   ]
  },
  {
   "cell_type": "code",
   "execution_count": 35,
   "id": "b7ea1dbf-1f57-46a4-a15a-943c5b63f0b7",
   "metadata": {},
   "outputs": [
    {
     "name": "stdout",
     "output_type": "stream",
     "text": [
      "torch.Size([3, 28, 28])\n"
     ]
    }
   ],
   "source": [
    "input_image = torch.rand(3,28,28)\n",
    "print(input_image.size())"
   ]
  },
  {
   "cell_type": "markdown",
   "id": "b70f23e3-0040-4ba3-9987-d7dd3d8213bb",
   "metadata": {},
   "source": [
    "nn.Flatten"
   ]
  },
  {
   "cell_type": "code",
   "execution_count": 39,
   "id": "e37973a8-6b80-4b05-b02a-4dd68c92edab",
   "metadata": {
    "scrolled": true
   },
   "outputs": [
    {
     "name": "stdout",
     "output_type": "stream",
     "text": [
      "torch.Size([3, 784])\n"
     ]
    }
   ],
   "source": [
    "flatten = nn.Flatten()\n",
    "flat_image = flatten(input_image)\n",
    "print(flat_image.size())"
   ]
  },
  {
   "cell_type": "markdown",
   "id": "3a9835f8-8d2e-48b8-9254-8042c0a7a15b",
   "metadata": {},
   "source": [
    "nn,Linear"
   ]
  },
  {
   "cell_type": "code",
   "execution_count": 48,
   "id": "ae0e1127-ca32-4313-8f9a-f555811c2ad1",
   "metadata": {},
   "outputs": [
    {
     "name": "stdout",
     "output_type": "stream",
     "text": [
      "torch.Size([3, 20])\n"
     ]
    }
   ],
   "source": [
    "layer1 = nn.Linear(in_features=28*28, out_features=20)\n",
    "hidden1 = layer1(flat_image)\n",
    "print(hidden1.size())"
   ]
  },
  {
   "cell_type": "markdown",
   "id": "eaf02cb7-6f59-4040-84e0-f66fc2e266f8",
   "metadata": {},
   "source": [
    "nn.ReLU"
   ]
  },
  {
   "cell_type": "code",
   "execution_count": 42,
   "id": "98defb06-d293-4f5a-949f-06fce10fb01e",
   "metadata": {},
   "outputs": [
    {
     "name": "stdout",
     "output_type": "stream",
     "text": [
      "Before ReLU: tensor([[-0.5599,  0.0271, -0.0705,  0.2922,  0.3903, -0.7977,  0.0180, -0.0858,\n",
      "          0.4950,  0.2722,  0.1642, -0.7782, -0.0729,  0.2497, -0.0886,  0.4176,\n",
      "         -0.2043,  0.0661, -0.3362, -0.1042],\n",
      "        [-0.5491,  0.1008, -0.1365,  0.4532,  0.5030, -0.4053, -0.3404,  0.0603,\n",
      "          0.4877,  0.2765,  0.1458, -0.5701, -0.0468,  0.1540, -0.3417,  0.3658,\n",
      "         -0.1079,  0.3587, -0.2922, -0.1145],\n",
      "        [-0.5685, -0.1870,  0.0575,  0.3405,  0.2914, -0.5718, -0.0820,  0.0895,\n",
      "          0.4752,  0.1518,  0.1349, -0.6903, -0.0497,  0.0047, -0.4719,  0.1591,\n",
      "         -0.2400,  0.1874, -0.1769,  0.1504]], grad_fn=<AddmmBackward0>)\n",
      "\n",
      "\n",
      "After ReLU: tensor([[0.0000, 0.0271, 0.0000, 0.2922, 0.3903, 0.0000, 0.0180, 0.0000, 0.4950,\n",
      "         0.2722, 0.1642, 0.0000, 0.0000, 0.2497, 0.0000, 0.4176, 0.0000, 0.0661,\n",
      "         0.0000, 0.0000],\n",
      "        [0.0000, 0.1008, 0.0000, 0.4532, 0.5030, 0.0000, 0.0000, 0.0603, 0.4877,\n",
      "         0.2765, 0.1458, 0.0000, 0.0000, 0.1540, 0.0000, 0.3658, 0.0000, 0.3587,\n",
      "         0.0000, 0.0000],\n",
      "        [0.0000, 0.0000, 0.0575, 0.3405, 0.2914, 0.0000, 0.0000, 0.0895, 0.4752,\n",
      "         0.1518, 0.1349, 0.0000, 0.0000, 0.0047, 0.0000, 0.1591, 0.0000, 0.1874,\n",
      "         0.0000, 0.1504]], grad_fn=<ReluBackward0>)\n"
     ]
    }
   ],
   "source": [
    "print(f\"Before ReLU: {hidden1}\\n\\n\")\n",
    "hidden1 = nn.ReLU()(hidden1)\n",
    "print(f\"After ReLU: {hidden1}\")"
   ]
  },
  {
   "cell_type": "markdown",
   "id": "cdf54928-d72e-42b5-96d2-0584afd8748d",
   "metadata": {},
   "source": [
    "nn.Sequential"
   ]
  },
  {
   "cell_type": "code",
   "execution_count": 43,
   "id": "03045eb8-bd59-4995-9dc0-6579ffbba2e6",
   "metadata": {},
   "outputs": [],
   "source": [
    "seq_modules = nn.Sequential(\n",
    "    flatten,\n",
    "    layer1,\n",
    "    nn.ReLU(),\n",
    "    nn.Linear(20, 10)\n",
    ")\n",
    "input_image = torch.rand(3,28,28)\n",
    "logits = seq_modules(input_image)"
   ]
  },
  {
   "cell_type": "markdown",
   "id": "c20174bd-8309-4c9c-ae41-11b9d96e8c8b",
   "metadata": {},
   "source": [
    "nn.Softmax"
   ]
  },
  {
   "cell_type": "code",
   "execution_count": 44,
   "id": "19d6cc62-ef76-4f19-ad53-cd780e26de16",
   "metadata": {},
   "outputs": [],
   "source": [
    "softmax = nn.Softmax(dim=1)\n",
    "pred_probab = softmax(logits)"
   ]
  },
  {
   "cell_type": "markdown",
   "id": "0ea595e7-b186-4ac3-b457-626730bfa107",
   "metadata": {},
   "source": [
    "모델 매개변수"
   ]
  },
  {
   "cell_type": "code",
   "execution_count": 46,
   "id": "4840428c-7e72-4acc-bc75-163cf7eb643a",
   "metadata": {},
   "outputs": [
    {
     "name": "stdout",
     "output_type": "stream",
     "text": [
      "Model structure: NeuralNetwork(\n",
      "  (flatten): Flatten(start_dim=1, end_dim=-1)\n",
      "  (linear_relu_stack): Sequential(\n",
      "    (0): Linear(in_features=784, out_features=512, bias=True)\n",
      "    (1): ReLU()\n",
      "    (2): Linear(in_features=512, out_features=512, bias=True)\n",
      "    (3): ReLU()\n",
      "    (4): Linear(in_features=512, out_features=10, bias=True)\n",
      "  )\n",
      ")\n",
      "\n",
      "\n",
      "Layer: linear_relu_stack.0.weight | Size: torch.Size([512, 784]) | Values : tensor([[ 0.0149, -0.0184,  0.0059,  ...,  0.0110, -0.0003, -0.0120],\n",
      "        [ 0.0334, -0.0017, -0.0086,  ..., -0.0032,  0.0097, -0.0122]],\n",
      "       grad_fn=<SliceBackward0>) \n",
      "\n",
      "Layer: linear_relu_stack.0.bias | Size: torch.Size([512]) | Values : tensor([-0.0339, -0.0323], grad_fn=<SliceBackward0>) \n",
      "\n",
      "Layer: linear_relu_stack.2.weight | Size: torch.Size([512, 512]) | Values : tensor([[-0.0383, -0.0230,  0.0085,  ..., -0.0252, -0.0375,  0.0031],\n",
      "        [ 0.0394,  0.0284, -0.0256,  ...,  0.0035, -0.0124,  0.0022]],\n",
      "       grad_fn=<SliceBackward0>) \n",
      "\n",
      "Layer: linear_relu_stack.2.bias | Size: torch.Size([512]) | Values : tensor([ 0.0258, -0.0057], grad_fn=<SliceBackward0>) \n",
      "\n",
      "Layer: linear_relu_stack.4.weight | Size: torch.Size([10, 512]) | Values : tensor([[-0.0365, -0.0183, -0.0103,  ..., -0.0226, -0.0002, -0.0371],\n",
      "        [-0.0323,  0.0087, -0.0206,  ...,  0.0421,  0.0028, -0.0346]],\n",
      "       grad_fn=<SliceBackward0>) \n",
      "\n",
      "Layer: linear_relu_stack.4.bias | Size: torch.Size([10]) | Values : tensor([-0.0219,  0.0400], grad_fn=<SliceBackward0>) \n",
      "\n"
     ]
    }
   ],
   "source": [
    "print(f\"Model structure: {model}\\n\\n\")\n",
    "\n",
    "for name, param in model.named_parameters():\n",
    "    print(f\"Layer: {name} | Size: {param.size()} | Values : {param[:2]} \\n\")"
   ]
  }
 ],
 "metadata": {
  "kernelspec": {
   "display_name": "Python 3 (ipykernel)",
   "language": "python",
   "name": "python3"
  },
  "language_info": {
   "codemirror_mode": {
    "name": "ipython",
    "version": 3
   },
   "file_extension": ".py",
   "mimetype": "text/x-python",
   "name": "python",
   "nbconvert_exporter": "python",
   "pygments_lexer": "ipython3",
   "version": "3.9.18"
  }
 },
 "nbformat": 4,
 "nbformat_minor": 5
}
